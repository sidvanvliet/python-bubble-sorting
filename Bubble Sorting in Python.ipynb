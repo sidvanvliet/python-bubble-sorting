{
 "cells": [
  {
   "cell_type": "markdown",
   "id": "satisfied-electronics",
   "metadata": {},
   "source": [
    "# Bubble Sorting\n",
    "\n",
    "S. van Vliet (HU University of Applied Sciences)\n",
    "\n",
    "### Description\n",
    "Bubble sort, sometimes referred to as sinking sort, is a simple sorting algorithm that repeatedly steps through the list, compares adjacent elements and swaps them if they are in the wrong order. The pass through the list is repeated until the list is sorted. The algorithm, which is a comparison sort, is named for the way smaller or larger elements \"bubble\" to the top of the list.\n",
    "\n",
    "*reference: https://en.wikipedia.org/wiki/Bubble_sort*\n",
    "\n",
    "### This notebook covers\n",
    "1. Defining the data\n",
    "2. Running the data through the algorithm\n",
    "3. Explaining the result"
   ]
  },
  {
   "cell_type": "markdown",
   "id": "stainless-championship",
   "metadata": {},
   "source": [
    "#### Defining the data"
   ]
  },
  {
   "cell_type": "code",
   "execution_count": 1,
   "id": "manufactured-cargo",
   "metadata": {
    "scrolled": true
   },
   "outputs": [
    {
     "name": "stdout",
     "output_type": "stream",
     "text": [
      "[33, 64, 30, 34, 77, 49, 11, 96, 17, 89, 36, 29, 44, 67, 58]\n"
     ]
    }
   ],
   "source": [
    "from numpy import random as np_random\n",
    "\n",
    "data = []\n",
    "set_count = 15\n",
    "set_range = 100\n",
    "\n",
    "for i in range(set_count):\n",
    "    data.append(np_random.randint(set_range))\n",
    "    \n",
    "print(data)"
   ]
  },
  {
   "cell_type": "markdown",
   "id": "threatened-seeker",
   "metadata": {},
   "source": [
    "As you can see, we've now defined our dataset by filling a list with `set_count` amount of random values (with a maximum of `set_range`). Our next step will be to utilize said data by running it through the mentioned 'Bubble Sorting' algorithm."
   ]
  },
  {
   "cell_type": "markdown",
   "id": "adjustable-bearing",
   "metadata": {},
   "source": [
    "#### Utilizing the data"
   ]
  },
  {
   "cell_type": "code",
   "execution_count": 2,
   "id": "universal-popularity",
   "metadata": {},
   "outputs": [],
   "source": [
    "index = 0\n",
    "\n",
    "while index < (set_count - 1):\n",
    "    current_value = data[index]\n",
    "    next_value = data[index + 1]\n",
    "    \n",
    "    if current_value > next_value:\n",
    "        data[index] = next_value\n",
    "        data[index + 1] = current_value\n",
    "        \n",
    "        index = 0\n",
    "    else:\n",
    "        index += 1"
   ]
  },
  {
   "cell_type": "markdown",
   "id": "applied-island",
   "metadata": {},
   "source": [
    "In the cell above we run the data set that we've created earlier through the 'Bubble Sorting' algorithm. The algorithm has very basic logic attached to it: iterate through the `data` list and if 𝑥 is greater than 𝑦, replace 𝑦 with 𝑥 and restart the loop. \n",
    "\n",
    "Now that we've ran the set through the algorithm we can assume that the list will be chronologically ordered, starting with the lowest value in the set and ending with the highest value in the set:"
   ]
  },
  {
   "cell_type": "code",
   "execution_count": 3,
   "id": "featured-tender",
   "metadata": {},
   "outputs": [
    {
     "name": "stdout",
     "output_type": "stream",
     "text": [
      "[11, 17, 29, 30, 33, 34, 36, 44, 49, 58, 64, 67, 77, 89, 96]\n"
     ]
    }
   ],
   "source": [
    "print(data)"
   ]
  }
 ],
 "metadata": {
  "kernelspec": {
   "display_name": "Python 3",
   "language": "python",
   "name": "python3"
  },
  "language_info": {
   "codemirror_mode": {
    "name": "ipython",
    "version": 3
   },
   "file_extension": ".py",
   "mimetype": "text/x-python",
   "name": "python",
   "nbconvert_exporter": "python",
   "pygments_lexer": "ipython3",
   "version": "3.9.2"
  }
 },
 "nbformat": 4,
 "nbformat_minor": 5
}
